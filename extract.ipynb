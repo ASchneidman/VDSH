{
 "cells": [
  {
   "cell_type": "code",
   "execution_count": 1,
   "metadata": {},
   "outputs": [
    {
     "name": "stdout",
     "output_type": "stream",
     "text": [
      "Starting Spark application\n"
     ]
    },
    {
     "data": {
      "text/html": [
       "<table>\n",
       "<tr><th>ID</th><th>YARN Application ID</th><th>Kind</th><th>State</th><th>Spark UI</th><th>Driver log</th><th>Current session?</th></tr><tr><td>4</td><td>application_1586656534431_0005</td><td>pyspark3</td><td>idle</td><td><a target=\"_blank\" href=\"http://ip-172-31-3-135.ec2.internal:20888/proxy/application_1586656534431_0005/\">Link</a></td><td><a target=\"_blank\" href=\"http://ip-172-31-12-158.ec2.internal:8042/node/containerlogs/container_1586656534431_0005_01_000001/livy\">Link</a></td><td>✔</td></tr></table>"
      ],
      "text/plain": [
       "<IPython.core.display.HTML object>"
      ]
     },
     "metadata": {},
     "output_type": "display_data"
    },
    {
     "name": "stdout",
     "output_type": "stream",
     "text": [
      "SparkSession available as 'spark'.\n",
      "+--------------------+\n",
      "|         description|\n",
      "+--------------------+\n",
      "|MORE DETAILED PIC...|\n",
      "|Generic viagra si...|\n",
      "|VERY POTENT Tobac...|\n",
      "|-----------------...|\n",
      "|6 tabs of temazep...|\n",
      "|This order is for...|\n",
      "|This listing is f...|\n",
      "|This listing is f...|\n",
      "|We offer 2g of ou...|\n",
      "|We offer 5g of ou...|\n",
      "|We offer 50g of o...|\n",
      "|3x 100mg seroquel...|\n",
      "|7g Psilocybe cube...|\n",
      "|This listing is f...|\n",
      "|****** HOLIDAY SA...|\n",
      "|****** HOLIDAY SA...|\n",
      "|Original looking ...|\n",
      "|Great quality (as...|\n",
      "|We offer great qu...|\n",
      "|Consists of clean...|\n",
      "+--------------------+\n",
      "only showing top 20 rows\n",
      "\n",
      "'\\nmask = np.random.rand(len(df)) < 0.8\\n\\ntemp_train_df = df[mask]\\ntemp_test_df = df[~mask]\\n\\ntrain_docs = list(temp_train_df.body)\\ntrain_tags = list(temp_train_df.label - 1)\\n\\ntest_docs = list(temp_test_df.body)\\ntest_tags = list(temp_test_df.label - 1)\\n'"
     ]
    }
   ],
   "source": [
    "from pyspark.sql.types import *\n",
    "from pyspark.sql.functions import *\n",
    "from pyspark import SparkFiles\n",
    "from pyspark.ml.feature import CountVectorizer\n",
    "\n",
    "import numpy as np\n",
    "\n",
    "schema = StructType([\n",
    "    StructField(\"market_name\", StringType(), True),\n",
    "    StructField(\"vendor_name\", StringType(), True),\n",
    "    StructField(\"price\", StringType(), True),\n",
    "    StructField(\"item_name\", StringType(), True),\n",
    "    StructField(\"ships_from\", StringType(), True),\n",
    "    StructField(\"description\", StringType(), True),\n",
    "    StructField(\"date\", StringType(), True),\n",
    "    StructField(\"adjusted_price\", StringType(), True)\n",
    "])\n",
    "\n",
    "files = 's3://15405finalprojectcsvdata/combined_and_cleaned_data/part-00000-c6f08ba4-b88b-4295-8d93-7a9f118df9db-c000.csv'\n",
    "\n",
    "df = spark.read.csv(files, multiLine=True,header=False, mode=\"DROPMALFORMED\", schema=schema)\n",
    "\n",
    "\n",
    "\n",
    "df = df.drop('market_name', 'vendor_name', 'price', 'item_name', 'ships_from', 'date', 'adjusted_price')\n",
    "\n",
    "df.show()\n",
    "\n",
    "'''\n",
    "mask = np.random.rand(len(df)) < 0.8\n",
    "\n",
    "temp_train_df = df[mask]\n",
    "temp_test_df = df[~mask]\n",
    "\n",
    "train_docs = list(temp_train_df.body)\n",
    "train_tags = list(temp_train_df.label - 1)\n",
    "\n",
    "test_docs = list(temp_test_df.body)\n",
    "test_tags = list(temp_test_df.label - 1)\n",
    "'''\n",
    "\n"
   ]
  },
  {
   "cell_type": "code",
   "execution_count": 2,
   "metadata": {},
   "outputs": [],
   "source": [
    "train_df, test_df = df.randomSplit([0.8, 0.2])\n",
    "\n",
    "train_df = train_df.where(col('description').isNotNull())\n",
    "test_df = test_df.where(col('description').isNotNull())\n",
    "\n",
    "#small = df.sample(False, .001).where(col('description').isNotNull())\n",
    "\n",
    "#small.show()"
   ]
  },
  {
   "cell_type": "code",
   "execution_count": 3,
   "metadata": {},
   "outputs": [],
   "source": [
    "cv = CountVectorizer(inputCol=\"description\", outputCol=\"bow\", vocabSize=10000, minDF=3.0, maxDF=0.8)"
   ]
  },
  {
   "cell_type": "code",
   "execution_count": 4,
   "metadata": {},
   "outputs": [],
   "source": [
    "def proc_dataframe(df):\n",
    "    spl = df.select(split(col('description'), ' ').alias('description'))\n",
    "    model = cv.fit(spl)\n",
    "    result = model.transform(spl).select('bow')\n",
    "    return result.withColumn(\"doc_id\", monotonically_increasing_id()).withColumn(\"label\", lit(0))\n",
    "    "
   ]
  },
  {
   "cell_type": "code",
   "execution_count": 5,
   "metadata": {},
   "outputs": [],
   "source": [
    "#small_result = proc_dataframe(small)\n",
    "train_result = proc_dataframe(train_df)\n",
    "test_result = proc_dataframe(test_df)\n",
    "\n"
   ]
  },
  {
   "cell_type": "code",
   "execution_count": 8,
   "metadata": {},
   "outputs": [],
   "source": [
    "\n",
    "train_final = train_result.rdd.repartition(1).toDF()\n",
    "test_final = test_result.rdd.repartition(1).toDF()\n"
   ]
  },
  {
   "cell_type": "code",
   "execution_count": 10,
   "metadata": {},
   "outputs": [],
   "source": [
    "# write to s3\n",
    "#train_final.write.parquet('s3://15405finalprojectcsvdata/split_dataset/train_df.parquet')\n",
    "test_final.write.parquet('s3://15405finalprojectcsvdata/split_dataset/test_df.parquet')\n",
    "\n"
   ]
  },
  {
   "cell_type": "code",
   "execution_count": null,
   "metadata": {},
   "outputs": [],
   "source": []
  }
 ],
 "metadata": {
  "kernelspec": {
   "display_name": "PySpark3",
   "language": "",
   "name": "pyspark3kernel"
  },
  "language_info": {
   "codemirror_mode": {
    "name": "python",
    "version": 3
   },
   "mimetype": "text/x-python",
   "name": "pyspark3",
   "pygments_lexer": "python3"
  }
 },
 "nbformat": 4,
 "nbformat_minor": 2
}
